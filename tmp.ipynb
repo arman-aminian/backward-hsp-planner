{
 "cells": [
  {
   "cell_type": "code",
   "execution_count": 105,
   "metadata": {},
   "outputs": [],
   "source": [
    "from utils.constants import OUTER_SEP, INNER_SEP\n",
    "from classes.parser import Parser\n",
    "from classes.action import Action\n",
    "from classes.predicate import Predicate\n",
    "import random"
   ]
  },
  {
   "cell_type": "code",
   "execution_count": 95,
   "metadata": {},
   "outputs": [],
   "source": [
    "p = Parser('./problems/domain.txt', './problems/simple.txt', OUTER_SEP, INNER_SEP)"
   ]
  },
  {
   "cell_type": "code",
   "execution_count": 96,
   "metadata": {},
   "outputs": [],
   "source": [
    "p.parse()"
   ]
  },
  {
   "cell_type": "code",
   "execution_count": 97,
   "metadata": {},
   "outputs": [
    {
     "name": "stdout",
     "output_type": "stream",
     "text": [
      "clear(a)\n",
      "arm-empty()\n",
      "on(a, b)\n",
      "on-table(b)\n"
     ]
    }
   ],
   "source": [
    "for i in p.init_state:\n",
    "    print(i)"
   ]
  },
  {
   "cell_type": "code",
   "execution_count": 98,
   "metadata": {},
   "outputs": [
    {
     "name": "stdout",
     "output_type": "stream",
     "text": [
      "on-table(a)\n",
      "clear(b)\n"
     ]
    }
   ],
   "source": [
    "for i in p.goals:\n",
    "    print(i)"
   ]
  },
  {
   "cell_type": "code",
   "execution_count": 99,
   "metadata": {},
   "outputs": [
    {
     "name": "stdout",
     "output_type": "stream",
     "text": [
      "PICK-UP\n",
      "args:a\n",
      "preconditions:clear(a),  on-table(a),  arm-empty()\n",
      "add effects:holding(a)\n",
      "delete effects:on-table(a),  clear(a),  arm-empty()\n"
     ]
    }
   ],
   "source": [
    "print((p.ground_actions[0]))"
   ]
  },
  {
   "cell_type": "code",
   "execution_count": 100,
   "metadata": {},
   "outputs": [
    {
     "name": "stdout",
     "output_type": "stream",
     "text": [
      "<class 'classes.action.Action'>\n",
      "<class 'classes.predicate.Predicate'>\n",
      "<class 'classes.predicate.Predicate'>\n"
     ]
    },
    {
     "data": {
      "text/plain": [
       "(None, None, None)"
      ]
     },
     "execution_count": 100,
     "metadata": {},
     "output_type": "execute_result"
    }
   ],
   "source": [
    "print(type(p.ground_actions[0])), print(type(p.init_state[0])), print(type(p.goals[0]))"
   ]
  },
  {
   "cell_type": "code",
   "execution_count": 101,
   "metadata": {},
   "outputs": [
    {
     "data": {
      "text/plain": [
       "['a']"
      ]
     },
     "execution_count": 101,
     "metadata": {},
     "output_type": "execute_result"
    }
   ],
   "source": [
    "p.ground_actions[0].args"
   ]
  },
  {
   "cell_type": "code",
   "execution_count": 102,
   "metadata": {},
   "outputs": [
    {
     "data": {
      "text/plain": [
       "'clear'"
      ]
     },
     "execution_count": 102,
     "metadata": {},
     "output_type": "execute_result"
    }
   ],
   "source": [
    "p.ground_actions[0].preconditions[0].name"
   ]
  },
  {
   "attachments": {},
   "cell_type": "markdown",
   "metadata": {},
   "source": [
    "# backward search"
   ]
  },
  {
   "cell_type": "code",
   "execution_count": 66,
   "metadata": {},
   "outputs": [
    {
     "data": {
      "text/plain": [
       "('on-table', ['a'])"
      ]
     },
     "execution_count": 66,
     "metadata": {},
     "output_type": "execute_result"
    }
   ],
   "source": [
    "p.goals[0].name, p.goals[0].args"
   ]
  },
  {
   "cell_type": "code",
   "execution_count": 84,
   "metadata": {},
   "outputs": [],
   "source": [
    "def check_relevancy(act : Action, goal_list : list) -> bool:\n",
    "    flag = False\n",
    "    # as we do not have any negative precond or negative goal, so just we care about add effects\n",
    "    for add_eff in act.add_effects:\n",
    "        for g in goal_list:\n",
    "            if add_eff == g:\n",
    "                flag = True\n",
    "                break\n",
    "        if flag:\n",
    "            break\n",
    "    if not flag: \n",
    "        return False\n",
    "    # check whether negative effects delete a goal\n",
    "    for del_eff in act.delete_effects:\n",
    "        for g in goal_list:\n",
    "            if del_eff == g:\n",
    "                return False\n",
    "    return True"
   ]
  },
  {
   "cell_type": "code",
   "execution_count": 111,
   "metadata": {},
   "outputs": [],
   "source": [
    "def gamma_inverse(act: Action, goals: list) -> list:\n",
    "    for add_eff in act.add_effects:\n",
    "        if add_eff in goals:\n",
    "            goals.remove(add_eff)\n",
    "    for precond in act.preconditions:\n",
    "        goals.append(precond)\n",
    "    return goals"
   ]
  },
  {
   "cell_type": "code",
   "execution_count": 112,
   "metadata": {},
   "outputs": [],
   "source": [
    "def backward_search(init, goals, actions, trajectory):\n",
    "    cur_goals = goals\n",
    "    # check if init state satifies cur_goals\n",
    "    flag = False\n",
    "    for goal in cur_goals:\n",
    "        for pred in init:\n",
    "            if goal == pred : \n",
    "                flag = True\n",
    "                break\n",
    "        if flag :\n",
    "            # check the next goal\n",
    "            flag = False\n",
    "        else : \n",
    "            break\n",
    "    else : \n",
    "        print('problem sloved :))')\n",
    "        return trajectory\n",
    "    \n",
    "    relevant_actions = []\n",
    "    for act in actions:\n",
    "        if check_relevancy(act, cur_goals):\n",
    "            relevant_actions.append(act)\n",
    "    while len(relevant_actions) > 0:\n",
    "        # non-deterministically choose a relevant action\n",
    "        act_index = random.randint(0,len(relevant_actions)-1)\n",
    "        act = relevant_actions[act_index]\n",
    "        relevant_actions.remove(act)\n",
    "        new_goals = gamma_inverse(act, cur_goals.copy())\n",
    "        \n",
    "        # check new_goals is superset of old goals\n",
    "        flag = False\n",
    "        for old_goal in cur_goals:\n",
    "            for new_goal in new_goals:\n",
    "                if old_goal == new_goal:\n",
    "                    flag = True\n",
    "                    break\n",
    "            if not flag :\n",
    "                # new goals are superset of old goals and we struggled in a loop, so test the next relevant action\n",
    "                break\n",
    "            else : \n",
    "                flag = False\n",
    "        # if loop did not detected\n",
    "        else : \n",
    "            new_trajectory = trajectory.copy()\n",
    "            new_trajectory.insert(0, act)\n",
    "            backward_search(init, new_goals, actions, new_trajectory)\n",
    "    \n",
    "        "
   ]
  },
  {
   "cell_type": "code",
   "execution_count": 117,
   "metadata": {},
   "outputs": [],
   "source": [
    "trajectory = []\n",
    "t= backward_search(p.init_state, p.goals, p.ground_actions, trajectory)"
   ]
  },
  {
   "cell_type": "code",
   "execution_count": 119,
   "metadata": {},
   "outputs": [
    {
     "data": {
      "text/plain": [
       "[<classes.predicate.Predicate at 0x7fd55d831390>,\n",
       " <classes.predicate.Predicate at 0x7fd55d850a10>,\n",
       " <classes.predicate.Predicate at 0x7fd55d872250>,\n",
       " <classes.predicate.Predicate at 0x7fd55d872f90>]"
      ]
     },
     "execution_count": 119,
     "metadata": {},
     "output_type": "execute_result"
    }
   ],
   "source": [
    "p.init_state"
   ]
  },
  {
   "cell_type": "code",
   "execution_count": 120,
   "metadata": {},
   "outputs": [
    {
     "data": {
      "text/plain": [
       "[<classes.predicate.Predicate at 0x7fd55d831310>,\n",
       " <classes.predicate.Predicate at 0x7fd55d8723d0>]"
      ]
     },
     "execution_count": 120,
     "metadata": {},
     "output_type": "execute_result"
    }
   ],
   "source": [
    "p.goals"
   ]
  },
  {
   "cell_type": "code",
   "execution_count": 80,
   "metadata": {},
   "outputs": [
    {
     "data": {
      "text/plain": [
       "[<classes.predicate.Predicate at 0x7fd55d800b90>]"
      ]
     },
     "execution_count": 80,
     "metadata": {},
     "output_type": "execute_result"
    }
   ],
   "source": [
    "p.ground_actions[0].add_effects"
   ]
  },
  {
   "cell_type": "code",
   "execution_count": 83,
   "metadata": {},
   "outputs": [
    {
     "data": {
      "text/plain": [
       "[<classes.predicate.Predicate at 0x7fd55c68dcd0>,\n",
       " <classes.predicate.Predicate at 0x7fd55d7b28d0>]"
      ]
     },
     "execution_count": 83,
     "metadata": {},
     "output_type": "execute_result"
    }
   ],
   "source": [
    "cur_goals"
   ]
  },
  {
   "cell_type": "code",
   "execution_count": 81,
   "metadata": {},
   "outputs": [
    {
     "data": {
      "text/plain": [
       "<classes.predicate.Predicate at 0x7fd55c68dcd0>"
      ]
     },
     "execution_count": 81,
     "metadata": {},
     "output_type": "execute_result"
    }
   ],
   "source": [
    "cur_goals[0]"
   ]
  },
  {
   "cell_type": "code",
   "execution_count": 107,
   "metadata": {},
   "outputs": [
    {
     "data": {
      "text/plain": [
       "[<classes.predicate.Predicate at 0x7fd55d831390>,\n",
       " <classes.predicate.Predicate at 0x7fd55d850a10>,\n",
       " <classes.predicate.Predicate at 0x7fd55d872250>,\n",
       " <classes.predicate.Predicate at 0x7fd55d872f90>]"
      ]
     },
     "execution_count": 107,
     "metadata": {},
     "output_type": "execute_result"
    }
   ],
   "source": [
    "p.init_state"
   ]
  },
  {
   "cell_type": "code",
   "execution_count": 71,
   "metadata": {},
   "outputs": [
    {
     "data": {
      "text/plain": [
       "['a']"
      ]
     },
     "execution_count": 71,
     "metadata": {},
     "output_type": "execute_result"
    }
   ],
   "source": [
    "p.init_state[0].args"
   ]
  },
  {
   "cell_type": "code",
   "execution_count": null,
   "metadata": {},
   "outputs": [],
   "source": []
  }
 ],
 "metadata": {
  "kernelspec": {
   "display_name": "Python 3",
   "language": "python",
   "name": "python3"
  },
  "language_info": {
   "codemirror_mode": {
    "name": "ipython",
    "version": 3
   },
   "file_extension": ".py",
   "mimetype": "text/x-python",
   "name": "python",
   "nbconvert_exporter": "python",
   "pygments_lexer": "ipython3",
   "version": "3.7.4"
  },
  "orig_nbformat": 4,
  "vscode": {
   "interpreter": {
    "hash": "e534e48711db4d1e1c48977d0d14ff85b1f16d41bcc4fdfd88268a329b3c9d66"
   }
  }
 },
 "nbformat": 4,
 "nbformat_minor": 2
}